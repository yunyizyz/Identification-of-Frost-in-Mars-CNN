{
  "cells": [
    {
      "cell_type": "markdown",
      "metadata": {
        "id": "B_Pl5A0EsWvP"
      },
      "source": [
        "***The following code was built and tested on Google Colab.***"
      ]
    },
    {
      "cell_type": "code",
      "execution_count": 3,
      "metadata": {
        "id": "Wr_oAnWy9zqo"
      },
      "outputs": [],
      "source": [
        "import os\n",
        "import os.path as op\n",
        "import json\n",
        "from pathlib import Path\n",
        "import shutil\n",
        "import logging\n",
        "import numpy as np\n",
        "from tqdm import tqdm\n",
        "from skimage import io\n",
        "from zipfile import ZipFile\n",
        "import tensorflow as tf\n",
        "import matplotlib.pyplot as plt\n",
        "import random\n",
        "import tensorflow as tf\n",
        "from PIL import Image\n",
        "from sklearn.metrics import classification_report\n",
        "from tensorflow.keras.optimizers import Adam\n",
        "from tensorflow.keras.models import Sequential\n",
        "from tensorflow.keras.regularizers import l2\n",
        "from tensorflow.keras.layers import GlobalAveragePooling2D, Dense, Dropout, BatchNormalization, Activation, Conv2D, BatchNormalization, ReLU, MaxPooling2D, Flatten, Dense, Dropout\n",
        "from tensorflow.keras.applications import EfficientNetB0, ResNet50, VGG16\n",
        "from tensorflow.keras.models import Model"
      ]
    },
    {
      "cell_type": "code",
      "execution_count": 4,
      "metadata": {
        "colab": {
          "base_uri": "https://localhost:8080/",
          "height": 0
        },
        "id": "5X3ZttR5FnB_",
        "outputId": "4468d371-bc1a-4c3f-f11f-ab746f6786ce"
      },
      "outputs": [
        {
          "output_type": "stream",
          "name": "stdout",
          "text": [
            "Mounted at /content/drive\n"
          ]
        }
      ],
      "source": [
        "from google.colab import drive\n",
        "drive.mount('/content/drive')"
      ]
    },
    {
      "cell_type": "code",
      "execution_count": 5,
      "metadata": {
        "colab": {
          "base_uri": "https://localhost:8080/",
          "height": 0
        },
        "id": "j6MWMdBnF82C",
        "outputId": "c9aed95e-2c3b-4f80-e3ca-51bb06e410b1"
      },
      "outputs": [
        {
          "output_type": "stream",
          "name": "stdout",
          "text": [
            "Collecting ipython-autotime\n",
            "  Downloading ipython_autotime-0.3.2-py2.py3-none-any.whl (7.0 kB)\n",
            "Requirement already satisfied: ipython in /usr/local/lib/python3.10/dist-packages (from ipython-autotime) (7.34.0)\n",
            "Requirement already satisfied: setuptools>=18.5 in /usr/local/lib/python3.10/dist-packages (from ipython->ipython-autotime) (67.7.2)\n",
            "Collecting jedi>=0.16 (from ipython->ipython-autotime)\n",
            "  Downloading jedi-0.19.1-py2.py3-none-any.whl (1.6 MB)\n",
            "\u001b[2K     \u001b[90m━━━━━━━━━━━━━━━━━━━━━━━━━━━━━━━━━━━━━━━━\u001b[0m \u001b[32m1.6/1.6 MB\u001b[0m \u001b[31m12.8 MB/s\u001b[0m eta \u001b[36m0:00:00\u001b[0m\n",
            "\u001b[?25hRequirement already satisfied: decorator in /usr/local/lib/python3.10/dist-packages (from ipython->ipython-autotime) (4.4.2)\n",
            "Requirement already satisfied: pickleshare in /usr/local/lib/python3.10/dist-packages (from ipython->ipython-autotime) (0.7.5)\n",
            "Requirement already satisfied: traitlets>=4.2 in /usr/local/lib/python3.10/dist-packages (from ipython->ipython-autotime) (5.7.1)\n",
            "Requirement already satisfied: prompt-toolkit!=3.0.0,!=3.0.1,<3.1.0,>=2.0.0 in /usr/local/lib/python3.10/dist-packages (from ipython->ipython-autotime) (3.0.41)\n",
            "Requirement already satisfied: pygments in /usr/local/lib/python3.10/dist-packages (from ipython->ipython-autotime) (2.16.1)\n",
            "Requirement already satisfied: backcall in /usr/local/lib/python3.10/dist-packages (from ipython->ipython-autotime) (0.2.0)\n",
            "Requirement already satisfied: matplotlib-inline in /usr/local/lib/python3.10/dist-packages (from ipython->ipython-autotime) (0.1.6)\n",
            "Requirement already satisfied: pexpect>4.3 in /usr/local/lib/python3.10/dist-packages (from ipython->ipython-autotime) (4.9.0)\n",
            "Requirement already satisfied: parso<0.9.0,>=0.8.3 in /usr/local/lib/python3.10/dist-packages (from jedi>=0.16->ipython->ipython-autotime) (0.8.3)\n",
            "Requirement already satisfied: ptyprocess>=0.5 in /usr/local/lib/python3.10/dist-packages (from pexpect>4.3->ipython->ipython-autotime) (0.7.0)\n",
            "Requirement already satisfied: wcwidth in /usr/local/lib/python3.10/dist-packages (from prompt-toolkit!=3.0.0,!=3.0.1,<3.1.0,>=2.0.0->ipython->ipython-autotime) (0.2.12)\n",
            "Installing collected packages: jedi, ipython-autotime\n",
            "Successfully installed ipython-autotime-0.3.2 jedi-0.19.1\n",
            "time: 263 µs (started: 2023-12-11 19:25:11 +00:00)\n"
          ]
        }
      ],
      "source": [
        "!pip install ipython-autotime\n",
        "%load_ext autotime"
      ]
    },
    {
      "cell_type": "code",
      "execution_count": 6,
      "metadata": {
        "colab": {
          "base_uri": "https://localhost:8080/",
          "height": 0
        },
        "id": "-FOyaPtD-ds1",
        "outputId": "8617c874-07f7-4aca-810f-f93a0438a5b3"
      },
      "outputs": [
        {
          "output_type": "stream",
          "name": "stdout",
          "text": [
            "--2023-12-11 19:25:13--  http://dataverse.jpl.nasa.gov/api/access/datafile/83039\n",
            "Resolving dataverse.jpl.nasa.gov (dataverse.jpl.nasa.gov)... 128.149.107.132\n",
            "Connecting to dataverse.jpl.nasa.gov (dataverse.jpl.nasa.gov)|128.149.107.132|:80... connected.\n",
            "HTTP request sent, awaiting response... 302 Found\n",
            "Location: https://dataverse.jpl.nasa.gov/api/access/datafile/83039 [following]\n",
            "--2023-12-11 19:25:13--  https://dataverse.jpl.nasa.gov/api/access/datafile/83039\n",
            "Connecting to dataverse.jpl.nasa.gov (dataverse.jpl.nasa.gov)|128.149.107.132|:443... connected.\n",
            "HTTP request sent, awaiting response... 200 OK\n",
            "Length: 2738356883 (2.5G) [application/zip]\n",
            "Saving to: ‘/content/drive/MyDrive/DSCI552/final-project/data/83039.15’\n",
            "\n",
            "83039.15            100%[===================>]   2.55G  21.8MB/s    in 2m 5s   \n",
            "\n",
            "2023-12-11 19:27:19 (20.8 MB/s) - ‘/content/drive/MyDrive/DSCI552/final-project/data/83039.15’ saved [2738356883/2738356883]\n",
            "\n",
            "time: 2min 7s (started: 2023-12-11 19:25:11 +00:00)\n"
          ]
        }
      ],
      "source": [
        "!wget -P /content/drive/MyDrive/DSCI552/final-project/data http://dataverse.jpl.nasa.gov/api/access/datafile/83039"
      ]
    },
    {
      "cell_type": "code",
      "execution_count": 7,
      "metadata": {
        "colab": {
          "base_uri": "https://localhost:8080/",
          "height": 0
        },
        "id": "WkqwHfNqMV9S",
        "outputId": "feb34ac8-f43e-4e8b-bc8e-185e527fd078"
      },
      "outputs": [
        {
          "output_type": "stream",
          "name": "stdout",
          "text": [
            "Done\n",
            "time: 42.1 s (started: 2023-12-11 19:27:19 +00:00)\n"
          ]
        }
      ],
      "source": [
        "file_name = '/content/drive/MyDrive/DSCI552/final-project/data/83039'\n",
        "\n",
        "with ZipFile(file_name, 'r') as zips:\n",
        "  zips.extractall()\n",
        "  print('Done')"
      ]
    },
    {
      "cell_type": "code",
      "execution_count": 8,
      "metadata": {
        "colab": {
          "base_uri": "https://localhost:8080/",
          "height": 0
        },
        "id": "Gt3iVVni9zqt",
        "outputId": "cd6d642f-9a93-4fca-a324-f7f7c67249ab"
      },
      "outputs": [
        {
          "output_type": "stream",
          "name": "stdout",
          "text": [
            "time: 6.22 ms (started: 2023-12-11 19:28:01 +00:00)\n"
          ]
        }
      ],
      "source": [
        "# Logging configuration\n",
        "logging.basicConfig(level=logging.INFO,\n",
        "                    datefmt='%H:%M:%S',\n",
        "                    format='%(asctime)s | %(levelname)-5s | %(module)-15s | %(message)s')\n",
        "\n",
        "# Head directory containing all image subframes.\n",
        "data_head_dir = Path('/content/data/')\n",
        "\n",
        "# Find all subframe directories\n",
        "subdirs = [Path(subdir.stem) for subdir in data_head_dir.iterdir() if subdir.is_dir()]\n",
        "src_image_ids = ['_'.join(a_path.name.split('_')[:3]) for a_path in subdirs]"
      ]
    },
    {
      "cell_type": "code",
      "execution_count": 9,
      "metadata": {
        "colab": {
          "base_uri": "https://localhost:8080/",
          "height": 0
        },
        "id": "DpoFawIb9zqu",
        "outputId": "4157b202-0f2c-4083-e697-53b0ce6eb416"
      },
      "outputs": [
        {
          "output_type": "stream",
          "name": "stdout",
          "text": [
            "time: 1.18 s (started: 2023-12-11 19:28:01 +00:00)\n"
          ]
        }
      ],
      "source": [
        "# Load train/val/test subframe IDs\n",
        "def load_text_ids(file_path):\n",
        "    \"\"\"Simple helper to load all lines from a text file\"\"\"\n",
        "    with open(file_path, 'r') as f:\n",
        "        lines = [line.strip() for line in f.readlines()]\n",
        "    return lines\n",
        "\n",
        "# Load the subframe names for the three data subsets\n",
        "train_ids = load_text_ids('/content/drive/MyDrive/DSCI552/final-project/train_source_images.txt')\n",
        "validate_ids = load_text_ids('/content/drive/MyDrive/DSCI552/final-project/val_source_images.txt')\n",
        "test_ids = load_text_ids('/content/drive/MyDrive/DSCI552/final-project/test_source_images.txt')\n",
        "\n",
        "# Generate a list containing the dataset split for the matching subdirectory names\n",
        "subdir_splits = []\n",
        "for src_id in src_image_ids:\n",
        "    if src_id in train_ids:\n",
        "        subdir_splits.append('train')\n",
        "    elif src_id in validate_ids:\n",
        "        subdir_splits.append('validate')\n",
        "    elif(src_id in test_ids):\n",
        "        subdir_splits.append('test')\n",
        "    else:\n",
        "        logging.warning(f'{src_id}: Did not find designated split in train/validate/test list.')\n",
        "        subdir_splits.append(None)"
      ]
    },
    {
      "cell_type": "markdown",
      "metadata": {
        "id": "3HwS2nKm9zqv"
      },
      "source": [
        "# Loading and pre processing the data + Image augmentation\n",
        "\n",
        "\n"
      ]
    },
    {
      "cell_type": "code",
      "execution_count": 10,
      "metadata": {
        "colab": {
          "base_uri": "https://localhost:8080/",
          "height": 0
        },
        "id": "pZAxQVtO9zqy",
        "outputId": "a641dea4-7efd-440d-c2ff-4c5da1a8312d"
      },
      "outputs": [
        {
          "output_type": "stream",
          "name": "stdout",
          "text": [
            "time: 597 µs (started: 2023-12-11 19:28:02 +00:00)\n"
          ]
        }
      ],
      "source": [
        "def load_and_preprocess(img_loc, label):\n",
        "  def _inner_function(img_loc, label):\n",
        "      # Convert tensor to native type\n",
        "      img_loc_str = img_loc.numpy().decode('utf-8')\n",
        "\n",
        "      # Load image using PIL and convert to RGB\n",
        "      img = Image.open(img_loc_str).convert('RGB')\n",
        "      img = np.array(img)\n",
        "      img = tf.image.resize(img, [299, 299])\n",
        "\n",
        "      # Normalize the image to the [0, 1] range\n",
        "      img = img / 255.0\n",
        "      label = 1 if label.numpy().decode('utf-8') == 'frost' else 0\n",
        "\n",
        "      return img, label\n",
        "\n",
        "  X, y = tf.py_function(_inner_function, [img_loc, label], [tf.float32, tf.int64])\n",
        "\n",
        "  X.set_shape([299, 299, 3])\n",
        "  y.set_shape([]) # Scalar\n",
        "\n",
        "  return X, y\n"
      ]
    },
    {
      "cell_type": "markdown",
      "metadata": {
        "id": "6813HJZQ-4iD"
      },
      "source": [
        "### Image Augmentation:\n",
        "\n",
        "For image augmentation, I tried random contrast, random crop, flip and random zoom, and kept random contrast only for better model performance.\n",
        "\n",
        "* The pictures used for this project are subareas of the photo of Mars took perpendicularly, it will not provide much additional information when flip or rotate the pictures.\n",
        "* Pictures are plain and contains many duplicated subareas, random zoom didn't improve the model performance.\n"
      ]
    },
    {
      "cell_type": "code",
      "execution_count": 11,
      "metadata": {
        "colab": {
          "base_uri": "https://localhost:8080/",
          "height": 0
        },
        "id": "_pM4Xg4kbI-O",
        "outputId": "bcf6ac3b-2b56-4c58-a70c-a54ce519f777"
      },
      "outputs": [
        {
          "output_type": "stream",
          "name": "stdout",
          "text": [
            "time: 559 µs (started: 2023-12-11 19:28:02 +00:00)\n"
          ]
        }
      ],
      "source": [
        "def load_and_preprocess_and_augmentation(img_loc, label): #For training data\n",
        "  def _inner_function(img_loc, label):\n",
        "    img_loc_str = img_loc.numpy().decode('utf-8')\n",
        "    img = Image.open(img_loc_str).convert('RGB')\n",
        "\n",
        "    # img = tf.image.random_crop(img, size=[250, 250, 3])\n",
        "    # img = tf.image.random_flip_left_right(img)\n",
        "    # img = tf.image.random_flip_up_down(img)\n",
        "    img = tf.image.random_contrast(img, 0.5, 1.5)\n",
        "    img = np.array(img)\n",
        "    img = tf.image.resize(img, [299, 299])\n",
        "\n",
        "    # Normalize the image to the [0, 1] range\n",
        "    img = img / 255.0\n",
        "\n",
        "    # Convert label\n",
        "    label = 1 if label.numpy().decode('utf-8') == 'frost' else 0\n",
        "\n",
        "    return img, label\n",
        "\n",
        "  X, y = tf.py_function(_inner_function, [img_loc, label], [tf.float32, tf.int64])\n",
        "\n",
        "  X.set_shape([299, 299, 3])\n",
        "  y.set_shape([]) # Scalar\n",
        "\n",
        "  return X, y"
      ]
    },
    {
      "cell_type": "code",
      "execution_count": 12,
      "metadata": {
        "colab": {
          "base_uri": "https://localhost:8080/",
          "height": 0
        },
        "id": "dS3Y2Y8KLlih",
        "outputId": "133f42a0-281a-4f14-9c6b-7ecf8a7e11ba"
      },
      "outputs": [
        {
          "output_type": "stream",
          "name": "stdout",
          "text": [
            "time: 487 µs (started: 2023-12-11 19:28:02 +00:00)\n"
          ]
        }
      ],
      "source": [
        "def load_subdir_data(dir_path, image_size, seed=None):\n",
        "\n",
        "    \"\"\"Helper to create a TF dataset from each image subdirectory\"\"\"\n",
        "\n",
        "    # Grab only the classes that (1) we want to keep and (2) exist in this directory\n",
        "    tile_dir = dir_path / Path('tiles')\n",
        "    label_dir = dir_path /Path('labels')\n",
        "\n",
        "    loc_list = []\n",
        "\n",
        "    for folder in os.listdir(tile_dir):\n",
        "        if os.path.isdir(os.path.join(tile_dir, folder)):\n",
        "            for file in os.listdir(os.path.join(tile_dir, folder)):\n",
        "                if file.endswith(\".png\"):\n",
        "                    loc_list.append((os.path.join(os.path.join(tile_dir, folder), file), folder))\n",
        "\n",
        "    return loc_list"
      ]
    },
    {
      "cell_type": "code",
      "execution_count": 13,
      "metadata": {
        "colab": {
          "base_uri": "https://localhost:8080/",
          "height": 0
        },
        "id": "c6FytmgPLl-i",
        "outputId": "0bec7200-7b39-4743-97fe-2d03e6b3bcd2"
      },
      "outputs": [
        {
          "output_type": "stream",
          "name": "stdout",
          "text": [
            "time: 171 ms (started: 2023-12-11 19:28:02 +00:00)\n"
          ]
        }
      ],
      "source": [
        "# Loop over all subframes, loading each into a list\n",
        "tf_data_train, tf_data_test, tf_data_val = [], [], []\n",
        "tf_dataset_train, tf_dataset_test, tf_dataset_val = [], [], []\n",
        "\n",
        "# Update the batch and buffer size as per your model requirements\n",
        "buffer_size = 64\n",
        "batch_size = 32\n",
        "\n",
        "IMAGE_SIZE = (299, 299)  # All images contained in this dataset are 299x299 (originally, to match Inception v3 input size)\n",
        "SEED = 17\n",
        "\n",
        "for subdir, split in zip(subdirs, subdir_splits):\n",
        "    full_path = data_head_dir / subdir\n",
        "    if split=='validate':\n",
        "        tf_data_val.extend(load_subdir_data(full_path, IMAGE_SIZE, SEED))\n",
        "    elif split=='train':\n",
        "        tf_data_train.extend(load_subdir_data(full_path, IMAGE_SIZE, SEED))\n",
        "    elif split=='test':\n",
        "        tf_data_test.extend(load_subdir_data(full_path, IMAGE_SIZE, SEED))"
      ]
    },
    {
      "cell_type": "code",
      "execution_count": 14,
      "metadata": {
        "colab": {
          "base_uri": "https://localhost:8080/",
          "height": 0
        },
        "id": "8QhQeIL-PnYH",
        "outputId": "fe4ea7c2-2863-4f8a-eaed-e3b819c2a049"
      },
      "outputs": [
        {
          "output_type": "execute_result",
          "data": {
            "text/plain": [
              "[('/content/data/ESP_053223_1770_20480_22760_10240_12466/tiles/background/ESP_053223_1770_21377_21676_11137_11436.png',\n",
              "  'background'),\n",
              " ('/content/data/ESP_053223_1770_20480_22760_10240_12466/tiles/background/ESP_053223_1770_21377_21676_11436_11735.png',\n",
              "  'background'),\n",
              " ('/content/data/ESP_053223_1770_20480_22760_10240_12466/tiles/background/ESP_053223_1770_20779_21078_10838_11137.png',\n",
              "  'background'),\n",
              " ('/content/data/ESP_053223_1770_20480_22760_10240_12466/tiles/background/ESP_053223_1770_20480_20779_12034_12333.png',\n",
              "  'background'),\n",
              " ('/content/data/ESP_053223_1770_20480_22760_10240_12466/tiles/background/ESP_053223_1770_20480_20779_10240_10539.png',\n",
              "  'background')]"
            ]
          },
          "metadata": {},
          "execution_count": 14
        },
        {
          "output_type": "stream",
          "name": "stdout",
          "text": [
            "time: 2.51 ms (started: 2023-12-11 19:28:03 +00:00)\n"
          ]
        }
      ],
      "source": [
        "tf_data_val[:5]"
      ]
    },
    {
      "cell_type": "code",
      "execution_count": 15,
      "metadata": {
        "colab": {
          "base_uri": "https://localhost:8080/",
          "height": 0
        },
        "id": "ZkCHK6sPOQVz",
        "outputId": "b6cc95b2-eab3-4b56-c4d4-821b7ce1acb1"
      },
      "outputs": [
        {
          "output_type": "stream",
          "name": "stdout",
          "text": [
            "time: 3.11 s (started: 2023-12-11 19:28:03 +00:00)\n"
          ]
        }
      ],
      "source": [
        "#Train\n",
        "random.shuffle(tf_data_train)\n",
        "img_list, label_list = zip(*tf_data_train)\n",
        "img_list_t = tf.convert_to_tensor(img_list)\n",
        "lb_list_t = tf.convert_to_tensor(label_list)\n",
        "\n",
        "tf_dataset_train = tf.data.Dataset.from_tensor_slices((img_list_t, lb_list_t))\n",
        "#Image augmentation\n",
        "tf_dataset_train = tf_dataset_train.map(load_and_preprocess_and_augmentation, num_parallel_calls=tf.data.experimental.AUTOTUNE)\n",
        "tf_dataset_train = tf_dataset_train.shuffle(buffer_size=buffer_size).batch(batch_size)\n",
        "\n",
        "#Validation\n",
        "random.shuffle(tf_data_val)\n",
        "img_list, label_list = zip(*tf_data_val)\n",
        "img_list_t = tf.convert_to_tensor(img_list)\n",
        "lb_list_t = tf.convert_to_tensor(label_list)\n",
        "\n",
        "tf_dataset_val = tf.data.Dataset.from_tensor_slices((img_list_t, lb_list_t))\n",
        "tf_dataset_val = tf_dataset_val.map(load_and_preprocess, num_parallel_calls=tf.data.experimental.AUTOTUNE)\n",
        "tf_dataset_val = tf_dataset_val.shuffle(buffer_size=buffer_size).batch(batch_size)\n",
        "\n",
        "#Test\n",
        "random.shuffle(tf_data_test)\n",
        "img_list, label_list = zip(*tf_data_test)\n",
        "img_list_t = tf.convert_to_tensor(img_list)\n",
        "lb_list_t = tf.convert_to_tensor(label_list)\n",
        "\n",
        "tf_dataset_test = tf.data.Dataset.from_tensor_slices((img_list_t, lb_list_t))\n",
        "tf_dataset_test = tf_dataset_test.map(load_and_preprocess, num_parallel_calls=tf.data.experimental.AUTOTUNE)\n",
        "tf_dataset_test = tf_dataset_test.shuffle(buffer_size=buffer_size).batch(batch_size)"
      ]
    },
    {
      "cell_type": "code",
      "execution_count": 16,
      "metadata": {
        "colab": {
          "base_uri": "https://localhost:8080/",
          "height": 0
        },
        "id": "Mq5pXIise3vE",
        "outputId": "9e505f77-286f-45dd-9b4a-3c2c4dc023fa"
      },
      "outputs": [
        {
          "output_type": "stream",
          "name": "stdout",
          "text": [
            "tf.Tensor([0 1 1 1 1 1 0 1 1 1 1 0 1 0 0 1 1 0 0 0 1 1 1 1 0 0 1 1 1 1 0 0], shape=(32,), dtype=int64)\n",
            "tf.Tensor([0 1 0 1 1 0 0 1 1 1 1 1 1 0 1 1 1 1 1 0 1 0 1 1 0 1 1 1 0 1 1 1], shape=(32,), dtype=int64)\n",
            "tf.Tensor([1 1 0 1 1 1 1 0 1 0 0 1 0 1 1 1 1 0 0 1 1 1 1 1 0 1 1 1 0 1 1 0], shape=(32,), dtype=int64)\n",
            "tf.Tensor([1 0 0 0 1 1 0 1 0 0 0 1 0 1 0 1 1 1 1 0 0 0 0 1 1 1 0 1 1 0 1 0], shape=(32,), dtype=int64)\n",
            "tf.Tensor([1 0 1 0 1 1 0 1 1 1 0 0 1 0 1 0 1 0 0 0 0 1 0 0 1 1 1 1 0 1 0 1], shape=(32,), dtype=int64)\n",
            "tf.Tensor([1 1 1 1 1 0 0 0 0 0 0 1 1 0 1 1 1 0 1 1 1 1 1 0 1 1 1 0 0 0 0 1], shape=(32,), dtype=int64)\n",
            "tf.Tensor([0 0 1 1 0 0 1 1 1 0 1 0 1 1 1 0 0 1 1 1 1 1 1 1 1 1 1 1 0 1 1 1], shape=(32,), dtype=int64)\n",
            "tf.Tensor([1 1 1 1 1 0 0 0 1 1 1 1 1 1 0 1 0 0 0 1 1 1 1 0 1 1 1 0 1 0 0 0], shape=(32,), dtype=int64)\n",
            "tf.Tensor([0 1 0 1 0 1 1 1 0 1 1 0 0 1 0 1 0 0 1 0 0 1 0 0 0 1 0 1 0 0 1 0], shape=(32,), dtype=int64)\n",
            "tf.Tensor([0 1 0 1 1 1 1 1 0 1 1 1 1 0 1 0 0 1 0 1 1 1 1 0 0 0 1 1 0 1 0 1], shape=(32,), dtype=int64)\n",
            "time: 2.21 s (started: 2023-12-11 19:28:06 +00:00)\n"
          ]
        }
      ],
      "source": [
        "#Check imbalance and data format\n",
        "for img, label in tf_dataset_train.take(10):\n",
        "    print(label)"
      ]
    },
    {
      "cell_type": "code",
      "execution_count": null,
      "metadata": {
        "colab": {
          "base_uri": "https://localhost:8080/"
        },
        "id": "aKaNPCoyRJnx",
        "outputId": "db026c88-9fa4-4320-cbf4-da4e3aa39c0b"
      },
      "outputs": [
        {
          "name": "stdout",
          "output_type": "stream",
          "text": [
            "tf.Tensor([1 1 1 1 1 1 0 1 1 0 1 1 1 0 1 1 0 1 1 1 0 0 1 0 1 1 0 1 1 1 1 1], shape=(32,), dtype=int64)\n",
            "tf.Tensor([0 0 0 1 0 0 1 1 0 0 1 0 1 0 1 0 1 1 0 0 1 1 0 0 1 0 1 0 1 1 0 1], shape=(32,), dtype=int64)\n",
            "tf.Tensor([0 0 1 1 1 1 1 1 0 1 0 0 0 0 1 1 1 0 1 0 1 1 0 0 1 1 1 1 0 0 1 0], shape=(32,), dtype=int64)\n",
            "tf.Tensor([1 0 0 1 1 1 1 1 1 0 0 1 1 0 0 1 1 1 0 1 0 1 1 1 0 0 1 1 1 1 0 0], shape=(32,), dtype=int64)\n",
            "tf.Tensor([1 0 1 1 1 0 0 1 0 1 1 1 1 0 1 0 1 1 1 0 1 0 1 0 1 0 0 1 1 1 1 1], shape=(32,), dtype=int64)\n",
            "tf.Tensor([0 1 1 1 1 1 0 1 1 1 1 1 0 1 1 0 0 1 0 1 0 1 0 1 1 1 1 1 0 1 1 1], shape=(32,), dtype=int64)\n",
            "tf.Tensor([0 0 0 1 0 1 1 1 0 0 1 1 1 1 1 0 1 0 0 1 0 1 0 0 1 1 1 0 1 0 0 1], shape=(32,), dtype=int64)\n",
            "tf.Tensor([0 1 1 1 1 1 0 1 1 1 1 1 1 1 1 1 1 0 0 0 1 0 0 1 1 0 1 1 1 1 0 0], shape=(32,), dtype=int64)\n",
            "tf.Tensor([0 0 0 1 1 1 1 0 1 1 0 1 1 1 0 0 0 1 0 1 1 0 1 1 1 1 1 1 1 0 1 1], shape=(32,), dtype=int64)\n",
            "tf.Tensor([1 1 0 1 1 1 1 1 0 1 1 1 0 1 1 0 1 1 1 1 0 1 1 0 1 0 1 1 0 0 0 1], shape=(32,), dtype=int64)\n",
            "time: 1.21 s (started: 2023-12-11 16:22:35 +00:00)\n"
          ]
        }
      ],
      "source": [
        "for img, label in tf_dataset_test.take(10):\n",
        "    print(label)"
      ]
    },
    {
      "cell_type": "markdown",
      "metadata": {
        "id": "EDFoEoOyTZKS"
      },
      "source": [
        "## Training CNN (Convolutional Neural Network) + MLP (Multi-Layer Perceptron)\n",
        "\n",
        "Following is a three-layer CNN followed by a dense layer on the data:\n",
        "\n",
        "* Dense layer (MLP) neurons: 128\n",
        "* All layers: ReLU\n",
        "* Softmax function, Batch normalization\n",
        "* Dropout rate: 30%,\n",
        "* L2 regularization: 0.1\n",
        "* ADAM optimizer\n",
        "* Cross entropy loss: sparse categorical crossentropy\n",
        "* Output layer: Dense(2, activation='softmax')\n",
        "* Learning rate: 0.00001"
      ]
    },
    {
      "cell_type": "code",
      "execution_count": null,
      "metadata": {
        "colab": {
          "base_uri": "https://localhost:8080/"
        },
        "id": "1P7wX15JWAPc",
        "outputId": "e7b9a3b0-215d-4abe-b40b-fb4597b2cf43"
      },
      "outputs": [
        {
          "name": "stdout",
          "output_type": "stream",
          "text": [
            "time: 848 µs (started: 2023-12-11 16:22:36 +00:00)\n"
          ]
        }
      ],
      "source": [
        "def cnn_model():\n",
        "    cnn_mlp_model = Sequential([\n",
        "        Conv2D(32, (3, 3), padding='same', input_shape=(299, 299, 3), kernel_regularizer=l2(0.1)),\n",
        "        BatchNormalization(),\n",
        "        ReLU(),\n",
        "        MaxPooling2D(pool_size=(2, 2)),\n",
        "\n",
        "        Conv2D(64, (3, 3), padding='same', kernel_regularizer=l2(0.1)),\n",
        "        BatchNormalization(),\n",
        "        ReLU(),\n",
        "        MaxPooling2D(pool_size=(2, 2)),\n",
        "\n",
        "        Conv2D(128, (3, 3), padding='same', kernel_regularizer=l2(0.1)),\n",
        "        BatchNormalization(),\n",
        "        ReLU(),\n",
        "        MaxPooling2D(pool_size=(2, 2)),\n",
        "\n",
        "        Flatten(),\n",
        "        Dense(128, activation='relu', kernel_regularizer=l2(0.1)),\n",
        "        Dropout(0.3),\n",
        "        Dense(2, activation='softmax')\n",
        "    ])\n",
        "\n",
        "    optimizer = Adam(learning_rate=0.00001)\n",
        "    cnn_mlp_model.compile(loss='sparse_categorical_crossentropy',\n",
        "                  optimizer=optimizer,\n",
        "                  metrics=['accuracy'])\n",
        "\n",
        "    return cnn_mlp_model"
      ]
    },
    {
      "cell_type": "code",
      "execution_count": null,
      "metadata": {
        "colab": {
          "base_uri": "https://localhost:8080/"
        },
        "id": "VhY6ZzWXWAS7",
        "outputId": "6d72986f-ea54-4d2e-a709-4680bb7ec07a"
      },
      "outputs": [
        {
          "name": "stdout",
          "output_type": "stream",
          "text": [
            "Epoch 1/20\n",
            "928/928 [==============================] - ETA: 0s - loss: 26.2696 - accuracy: 0.7128"
          ]
        },
        {
          "name": "stderr",
          "output_type": "stream",
          "text": [
            "/usr/local/lib/python3.10/dist-packages/keras/src/engine/training.py:3079: UserWarning: You are saving your model as an HDF5 file via `model.save()`. This file format is considered legacy. We recommend using instead the native Keras format, e.g. `model.save('my_model.keras')`.\n",
            "  saving_api.save_model(\n"
          ]
        },
        {
          "name": "stdout",
          "output_type": "stream",
          "text": [
            "\b\b\b\b\b\b\b\b\b\b\b\b\b\b\b\b\b\b\b\b\b\b\b\b\b\b\b\b\b\b\b\b\b\b\b\b\b\b\b\b\b\b\b\b\b\b\b\b\b\b\b\b\b\b\b\b\b\b\b\b\b\b\b\b\b\b\b\b\b\b\b\b\b\b\b\b\b\b\b\b\b\b\b\b\b\r928/928 [==============================] - 324s 334ms/step - loss: 26.2696 - accuracy: 0.7128 - val_loss: 17.0108 - val_accuracy: 0.8710\n",
            "Epoch 2/20\n",
            "928/928 [==============================] - 305s 328ms/step - loss: 13.0701 - accuracy: 0.7737 - val_loss: 10.2849 - val_accuracy: 0.7606\n",
            "Epoch 3/20\n",
            "928/928 [==============================] - 307s 330ms/step - loss: 8.6541 - accuracy: 0.8168 - val_loss: 8.1140 - val_accuracy: 0.6326\n",
            "Epoch 4/20\n",
            "928/928 [==============================] - 308s 331ms/step - loss: 6.7765 - accuracy: 0.8411 - val_loss: 6.5255 - val_accuracy: 0.7159\n",
            "Epoch 5/20\n",
            "928/928 [==============================] - 307s 331ms/step - loss: 5.7698 - accuracy: 0.8610 - val_loss: 5.4722 - val_accuracy: 0.8236\n",
            "Epoch 6/20\n",
            "928/928 [==============================] - 309s 332ms/step - loss: 5.1530 - accuracy: 0.8730 - val_loss: 5.1384 - val_accuracy: 0.7761\n",
            "Epoch 7/20\n",
            "928/928 [==============================] - 309s 333ms/step - loss: 4.7246 - accuracy: 0.8837 - val_loss: 4.8056 - val_accuracy: 0.7748\n",
            "Epoch 8/20\n",
            "928/928 [==============================] - 312s 336ms/step - loss: 4.3957 - accuracy: 0.8944 - val_loss: 4.5763 - val_accuracy: 0.7663\n",
            "Epoch 9/20\n",
            "928/928 [==============================] - 313s 337ms/step - loss: 4.1466 - accuracy: 0.8979 - val_loss: 4.1319 - val_accuracy: 0.8534\n",
            "Epoch 10/20\n",
            "928/928 [==============================] - 313s 337ms/step - loss: 3.9308 - accuracy: 0.9058 - val_loss: 3.9355 - val_accuracy: 0.8581\n",
            "Epoch 11/20\n",
            "928/928 [==============================] - 313s 337ms/step - loss: 3.7526 - accuracy: 0.9110 - val_loss: 3.7288 - val_accuracy: 0.8730\n",
            "Epoch 12/20\n",
            "928/928 [==============================] - 314s 338ms/step - loss: 3.5928 - accuracy: 0.9185 - val_loss: 3.7179 - val_accuracy: 0.8311\n",
            "Epoch 13/20\n",
            "928/928 [==============================] - 314s 338ms/step - loss: 3.4532 - accuracy: 0.9183 - val_loss: 3.4162 - val_accuracy: 0.8946\n",
            "Epoch 14/20\n",
            "928/928 [==============================] - 313s 337ms/step - loss: 3.3247 - accuracy: 0.9263 - val_loss: 3.5940 - val_accuracy: 0.8036\n",
            "Epoch 15/20\n",
            "928/928 [==============================] - 314s 338ms/step - loss: 3.2168 - accuracy: 0.9256 - val_loss: 3.1769 - val_accuracy: 0.9093\n",
            "Epoch 16/20\n",
            "928/928 [==============================] - 314s 338ms/step - loss: 3.1164 - accuracy: 0.9290 - val_loss: 3.3728 - val_accuracy: 0.8152\n",
            "Epoch 17/20\n",
            "928/928 [==============================] - 312s 336ms/step - loss: 3.0211 - accuracy: 0.9323 - val_loss: 3.1802 - val_accuracy: 0.8526\n",
            "Epoch 18/20\n",
            "928/928 [==============================] - 314s 338ms/step - loss: 2.9308 - accuracy: 0.9353 - val_loss: 3.1135 - val_accuracy: 0.8453\n",
            "Epoch 19/20\n",
            "928/928 [==============================] - 314s 338ms/step - loss: 2.8556 - accuracy: 0.9353 - val_loss: 2.9682 - val_accuracy: 0.8705\n",
            "Epoch 20/20\n",
            "928/928 [==============================] - 316s 340ms/step - loss: 2.7837 - accuracy: 0.9366 - val_loss: 2.8134 - val_accuracy: 0.9057\n",
            "time: 1h 44min 5s (started: 2023-12-11 16:22:36 +00:00)\n"
          ]
        }
      ],
      "source": [
        "model = cnn_model()\n",
        "early_stopping = tf.keras.callbacks.EarlyStopping(monitor='val_loss', patience=5, restore_best_weights=True)\n",
        "model_checkpoint = tf.keras.callbacks.ModelCheckpoint('/content/drive/MyDrive/DSCI552/final-project/cnn_mlp_best_model.h5', save_best_only=True, save_weights_only=False)\n",
        "\n",
        "history = model.fit(tf_dataset_train,\n",
        "                    epochs=20,\n",
        "                    validation_data=tf_dataset_val,\n",
        "                    callbacks=[early_stopping, model_checkpoint])"
      ]
    },
    {
      "cell_type": "code",
      "execution_count": null,
      "metadata": {
        "colab": {
          "base_uri": "https://localhost:8080/",
          "height": 467
        },
        "id": "v3theqn-mWM2",
        "outputId": "223c9296-f5b1-4df5-b7ec-1da8edeb9783"
      },
      "outputs": [
        {
          "data": {
            "image/png": "[encoded data removed]",
            "text/plain": [
              "<Figure size 640x480 with 1 Axes>"
            ]
          },
          "metadata": {},
          "output_type": "display_data"
        },
        {
          "name": "stdout",
          "output_type": "stream",
          "text": [
            "time: 187 ms (started: 2023-12-11 18:06:42 +00:00)\n"
          ]
        }
      ],
      "source": [
        "# Plot training and validation loss\n",
        "plt.plot(history.history['loss'], label='Training Loss')\n",
        "plt.plot(history.history['val_loss'], label='Validation Loss')\n",
        "plt.xlabel('Epoch')\n",
        "plt.ylabel('Loss')\n",
        "plt.legend()\n",
        "plt.show()"
      ]
    },
    {
      "cell_type": "code",
      "execution_count": 25,
      "metadata": {
        "colab": {
          "base_uri": "https://localhost:8080/",
          "height": 0
        },
        "id": "cGbhgcZF6jId",
        "outputId": "36871769-f81b-4f1f-c3ce-ba41d54a3745"
      },
      "outputs": [
        {
          "output_type": "stream",
          "name": "stdout",
          "text": [
            "time: 3min 48s (started: 2023-12-11 21:31:21 +00:00)\n"
          ]
        }
      ],
      "source": [
        "#True labels for all models evaluation\n",
        "true_labels_test = [label.numpy() for img, label in tf_dataset_test.unbatch()]\n",
        "true_labels_train = [label.numpy() for img, label in tf_dataset_train.unbatch()]\n",
        "true_labels_val = [label.numpy() for img, label in tf_dataset_val.unbatch()]"
      ]
    },
    {
      "cell_type": "markdown",
      "metadata": {
        "id": "_8yXt7m85xfx"
      },
      "source": [
        "Test dataset report:"
      ]
    },
    {
      "cell_type": "code",
      "execution_count": null,
      "metadata": {
        "colab": {
          "base_uri": "https://localhost:8080/"
        },
        "id": "3EiJnsdiWAV0",
        "outputId": "6102dd8a-3e7e-4baa-bdc8-b8c9a1570c7d"
      },
      "outputs": [
        {
          "name": "stdout",
          "output_type": "stream",
          "text": [
            "401/401 [==============================] - 52s 129ms/step\n",
            "              precision    recall  f1-score   support\n",
            "\n",
            "           0       0.35      0.44      0.39      4418\n",
            "           1       0.66      0.57      0.61      8405\n",
            "\n",
            "    accuracy                           0.52     12823\n",
            "   macro avg       0.50      0.50      0.50     12823\n",
            "weighted avg       0.55      0.52      0.53     12823\n",
            "\n",
            "time: 52.4 s (started: 2023-12-11 18:10:42 +00:00)\n"
          ]
        }
      ],
      "source": [
        "predictions_test = model.predict(tf_dataset_test)\n",
        "predicted_classes_test = np.argmax(predictions_test, axis=1)\n",
        "print(classification_report(true_labels_test, predicted_classes_test))"
      ]
    },
    {
      "cell_type": "markdown",
      "metadata": {
        "id": "YHZ6Ut715z7J"
      },
      "source": [
        "Train dataset report:"
      ]
    },
    {
      "cell_type": "code",
      "execution_count": null,
      "metadata": {
        "colab": {
          "base_uri": "https://localhost:8080/"
        },
        "id": "Lxx_bdti5mh3",
        "outputId": "11dbb00a-0c9f-423c-f6a5-1d9daf003a4c"
      },
      "outputs": [
        {
          "name": "stdout",
          "output_type": "stream",
          "text": [
            "928/928 [==============================] - 195s 210ms/step\n",
            "              precision    recall  f1-score   support\n",
            "\n",
            "           0       0.42      0.45      0.43     12235\n",
            "           1       0.59      0.56      0.58     17444\n",
            "\n",
            "    accuracy                           0.52     29679\n",
            "   macro avg       0.51      0.51      0.51     29679\n",
            "weighted avg       0.52      0.52      0.52     29679\n",
            "\n",
            "time: 3min 15s (started: 2023-12-11 18:11:34 +00:00)\n"
          ]
        }
      ],
      "source": [
        "predictions_tr = model.predict(tf_dataset_train)\n",
        "predicted_classes_tr = np.argmax(predictions_tr, axis=1)\n",
        "print(classification_report(true_labels_train, predicted_classes_tr))"
      ]
    },
    {
      "cell_type": "markdown",
      "metadata": {
        "id": "TLnL0MJN532A"
      },
      "source": [
        "Validation dataset report:"
      ]
    },
    {
      "cell_type": "code",
      "execution_count": null,
      "metadata": {
        "colab": {
          "base_uri": "https://localhost:8080/"
        },
        "id": "dVluS6SC5mlg",
        "outputId": "9ef670e0-01dc-4085-c79a-8517179a0703"
      },
      "outputs": [
        {
          "name": "stdout",
          "output_type": "stream",
          "text": [
            "353/353 [==============================] - 46s 130ms/step\n",
            "              precision    recall  f1-score   support\n",
            "\n",
            "           0       0.68      0.60      0.64      7654\n",
            "           1       0.33      0.41      0.37      3632\n",
            "\n",
            "    accuracy                           0.54     11286\n",
            "   macro avg       0.51      0.51      0.50     11286\n",
            "weighted avg       0.57      0.54      0.55     11286\n",
            "\n",
            "time: 46.2 s (started: 2023-12-11 18:14:50 +00:00)\n"
          ]
        }
      ],
      "source": [
        "predictions_val = model.predict(tf_dataset_val)\n",
        "predicted_classes_val = np.argmax(predictions_val, axis=1)\n",
        "print(classification_report(true_labels_val, predicted_classes_val))"
      ]
    },
    {
      "cell_type": "markdown",
      "metadata": {
        "id": "3qWh95qYwgOp"
      },
      "source": [
        "# Transfer Learning\n",
        "\n",
        "* EfficientNetB0\n",
        "* ResNet50\n",
        "* VGG 16\n",
        "\n"
      ]
    },
    {
      "cell_type": "markdown",
      "metadata": {
        "id": "Y5MlakTu50rk"
      },
      "source": [
        "1. **EfficientNetB0**\n",
        "\n",
        "* Dense layer neurons: 32\n",
        "* L2 regularization: 0.1\n",
        "* Dropout rate: 30% (For better model performance)\n",
        "* Output layer: Dense(2, activation='softmax')\n",
        "* Learning_rate: 0.000001\n",
        "* Loss: sparse categorical crossentropy\n",
        "* Batch size: 8\n",
        "* *Prediction results may not be reliable. The model didn't fit with many combinations of hyperparameters. It was easy to overfitting after two or three epoches. The pre-trained layers of EfficientNetB0 may not suitable for this specific training dataset.*"
      ]
    },
    {
      "cell_type": "code",
      "execution_count": 22,
      "metadata": {
        "colab": {
          "base_uri": "https://localhost:8080/",
          "height": 0
        },
        "id": "UYVR29ZlEcTn",
        "outputId": "f8bbc306-e68b-4fa0-da0d-28c717de08f3"
      },
      "outputs": [
        {
          "output_type": "stream",
          "name": "stdout",
          "text": [
            "Epoch 1/11\n",
            "928/928 [==============================] - 315s 332ms/step - loss: 6.1173 - accuracy: 0.5345 - val_loss: 5.3557 - val_accuracy: 0.3192\n",
            "Epoch 2/11\n",
            "928/928 [==============================] - 309s 332ms/step - loss: 4.6785 - accuracy: 0.5446 - val_loss: 4.0777 - val_accuracy: 0.6428\n",
            "Epoch 3/11\n",
            "928/928 [==============================] - 308s 332ms/step - loss: 3.6219 - accuracy: 0.5533 - val_loss: 3.3057 - val_accuracy: 0.3218\n",
            "Epoch 4/11\n",
            "928/928 [==============================] - 309s 333ms/step - loss: 2.8552 - accuracy: 0.5585 - val_loss: 2.6858 - val_accuracy: 0.3218\n",
            "Epoch 5/11\n",
            "928/928 [==============================] - 306s 329ms/step - loss: 2.3089 - accuracy: 0.5610 - val_loss: 2.1233 - val_accuracy: 0.2727\n",
            "Epoch 6/11\n",
            "928/928 [==============================] - 306s 329ms/step - loss: 1.9192 - accuracy: 0.5618 - val_loss: 1.9298 - val_accuracy: 0.3218\n",
            "Epoch 7/11\n",
            "928/928 [==============================] - 306s 330ms/step - loss: 1.6422 - accuracy: 0.5660 - val_loss: 1.5817 - val_accuracy: 0.3212\n",
            "Epoch 8/11\n",
            "928/928 [==============================] - 310s 333ms/step - loss: 1.4456 - accuracy: 0.5670 - val_loss: 1.3432 - val_accuracy: 0.6782\n",
            "Epoch 9/11\n",
            "928/928 [==============================] - 307s 331ms/step - loss: 1.2992 - accuracy: 0.5717 - val_loss: 1.2521 - val_accuracy: 0.5690\n",
            "Epoch 10/11\n",
            "928/928 [==============================] - 306s 329ms/step - loss: 1.1951 - accuracy: 0.5732 - val_loss: 1.1478 - val_accuracy: 0.6781\n",
            "Epoch 11/11\n",
            "928/928 [==============================] - 305s 328ms/step - loss: 1.1136 - accuracy: 0.5768 - val_loss: 1.1093 - val_accuracy: 0.3198\n",
            "time: 57min 15s (started: 2023-12-11 20:32:20 +00:00)\n"
          ]
        }
      ],
      "source": [
        "base_model = EfficientNetB0(weights='imagenet', include_top=False, input_shape=(299, 299, 3))\n",
        "for layer in base_model.layers:\n",
        "  layer.trainable = False\n",
        "\n",
        "x = GlobalAveragePooling2D()(base_model.output)\n",
        "x = Dense(32, kernel_regularizer=tf.keras.regularizers.l2(0.1))(x)\n",
        "x = BatchNormalization()(x)\n",
        "x = Activation('relu')(x)\n",
        "x = Dropout(0.3)(x)\n",
        "predictions = Dense(2, activation='softmax')(x)\n",
        "\n",
        "model_en = Model(inputs=base_model.input, outputs=predictions)\n",
        "\n",
        "optimizer = Adam(learning_rate=0.00001)\n",
        "model_en.compile(optimizer=optimizer, loss='sparse_categorical_crossentropy', metrics=['accuracy'])\n",
        "history = model_en.fit(\n",
        "    tf_dataset_train,\n",
        "    epochs=11,\n",
        "    validation_data=tf_dataset_val,\n",
        "    callbacks=[\n",
        "        tf.keras.callbacks.EarlyStopping(monitor='val_loss', patience=3, restore_best_weights=True),\n",
        "        tf.keras.callbacks.ModelCheckpoint('/content/drive/MyDrive/DSCI552/final-project/en_best_model-epoch15.h5', save_best_only=True, save_weights_only=False)\n",
        "    ],\n",
        "    batch_size=8\n",
        ")"
      ]
    },
    {
      "cell_type": "code",
      "execution_count": 23,
      "metadata": {
        "colab": {
          "base_uri": "https://localhost:8080/",
          "height": 467
        },
        "id": "V9ZepUTrzd6e",
        "outputId": "3fcad83b-a4f8-4575-b0b8-73a58535bd1a"
      },
      "outputs": [
        {
          "output_type": "display_data",
          "data": {
            "text/plain": [
              "<Figure size 640x480 with 1 Axes>"
            ],
            "image/png": "[encoded data removed]"
          },
          "metadata": {}
        },
        {
          "output_type": "stream",
          "name": "stdout",
          "text": [
            "time: 175 ms (started: 2023-12-11 21:29:43 +00:00)\n"
          ]
        }
      ],
      "source": [
        "# Plot training and validation loss\n",
        "plt.plot(history.history['loss'], label='Training Loss')\n",
        "plt.plot(history.history['val_loss'], label='Validation Loss')\n",
        "plt.xlabel('Epoch')\n",
        "plt.ylabel('Loss')\n",
        "plt.legend()\n",
        "plt.show()"
      ]
    },
    {
      "cell_type": "code",
      "execution_count": 26,
      "metadata": {
        "colab": {
          "base_uri": "https://localhost:8080/",
          "height": 0
        },
        "id": "08lJES5WGYrW",
        "outputId": "261d7beb-51cd-4569-f2f7-b8d65e1fe545"
      },
      "outputs": [
        {
          "output_type": "stream",
          "name": "stdout",
          "text": [
            "401/401 [==============================] - 75s 185ms/step\n",
            "              precision    recall  f1-score   support\n",
            "\n",
            "           0       0.32      0.03      0.05      4418\n",
            "           1       0.65      0.97      0.78      8405\n",
            "\n",
            "    accuracy                           0.65     12823\n",
            "   macro avg       0.49      0.50      0.42     12823\n",
            "weighted avg       0.54      0.65      0.53     12823\n",
            "\n",
            "time: 1min 14s (started: 2023-12-11 21:36:00 +00:00)\n"
          ]
        }
      ],
      "source": [
        "predictions_en_test = model_en.predict(tf_dataset_test)\n",
        "predicted_classes_en_test = np.argmax(predictions_en_test, axis=1)\n",
        "print(classification_report(true_labels_test, predicted_classes_en_test))"
      ]
    },
    {
      "cell_type": "code",
      "execution_count": 27,
      "metadata": {
        "colab": {
          "base_uri": "https://localhost:8080/",
          "height": 0
        },
        "id": "JrHN4qRWGaKk",
        "outputId": "55c5e5f5-d00d-4cce-a113-86bc52023df8"
      },
      "outputs": [
        {
          "output_type": "stream",
          "name": "stdout",
          "text": [
            "928/928 [==============================] - 240s 258ms/step\n",
            "              precision    recall  f1-score   support\n",
            "\n",
            "           0       0.39      0.04      0.07     12235\n",
            "           1       0.59      0.96      0.73     17444\n",
            "\n",
            "    accuracy                           0.58     29679\n",
            "   macro avg       0.49      0.50      0.40     29679\n",
            "weighted avg       0.51      0.58      0.46     29679\n",
            "\n",
            "time: 4min (started: 2023-12-11 21:37:14 +00:00)\n"
          ]
        }
      ],
      "source": [
        "predictions_en_train = model_en.predict(tf_dataset_train)\n",
        "predicted_classes_en_train = np.argmax(predictions_en_train, axis=1)\n",
        "print(classification_report(true_labels_train, predicted_classes_en_train))"
      ]
    },
    {
      "cell_type": "code",
      "execution_count": 28,
      "metadata": {
        "colab": {
          "base_uri": "https://localhost:8080/",
          "height": 0
        },
        "id": "jjt0DQbJGaPO",
        "outputId": "bf9c8edd-fa0c-4a81-eeff-ec37e0424f85"
      },
      "outputs": [
        {
          "output_type": "stream",
          "name": "stdout",
          "text": [
            "353/353 [==============================] - 65s 185ms/step\n",
            "              precision    recall  f1-score   support\n",
            "\n",
            "           0       0.71      0.00      0.01      7654\n",
            "           1       0.32      1.00      0.49      3632\n",
            "\n",
            "    accuracy                           0.32     11286\n",
            "   macro avg       0.51      0.50      0.25     11286\n",
            "weighted avg       0.58      0.32      0.16     11286\n",
            "\n",
            "time: 1min 5s (started: 2023-12-11 21:41:15 +00:00)\n"
          ]
        }
      ],
      "source": [
        "predictions_en_val = model_en.predict(tf_dataset_val)\n",
        "predicted_classes_en_val = np.argmax(predictions_en_val, axis=1)\n",
        "print(classification_report(true_labels_val, predicted_classes_en_val))"
      ]
    },
    {
      "cell_type": "markdown",
      "metadata": {
        "id": "Ag85PXMQdVsI"
      },
      "source": [
        "2. **ResNet50**\n",
        "\n",
        "* Dense layer neurons: 128\n",
        "* L2 regularization: 0.1\n",
        "* Dropout rate: 30%\n",
        "* Output layer: Dense(2, activation='softmax')\n",
        "* Learning_rate: 0.00001\n",
        "* Loss: sparse categorical crossentropy"
      ]
    },
    {
      "cell_type": "code",
      "execution_count": null,
      "metadata": {
        "colab": {
          "base_uri": "https://localhost:8080/"
        },
        "id": "q2PsQptPzeJH",
        "outputId": "e602f687-e787-4257-ed9f-722463c213cf"
      },
      "outputs": [
        {
          "name": "stdout",
          "output_type": "stream",
          "text": [
            "Downloading data from https://storage.googleapis.com/tensorflow/keras-applications/resnet/resnet50_weights_tf_dim_ordering_tf_kernels_notop.h5\n",
            "94765736/94765736 [==============================] - 1s 0us/step\n",
            "Epoch 1/21\n",
            "928/928 [==============================] - 402s 427ms/step - loss: 19.7003 - accuracy: 0.6914 - val_loss: 15.1451 - val_accuracy: 0.8050\n",
            "Epoch 2/21\n",
            "928/928 [==============================] - 392s 422ms/step - loss: 12.0161 - accuracy: 0.7712 - val_loss: 8.9973 - val_accuracy: 0.9042\n",
            "Epoch 3/21\n",
            "928/928 [==============================] - 392s 422ms/step - loss: 7.1355 - accuracy: 0.7909 - val_loss: 5.1742 - val_accuracy: 0.9156\n",
            "Epoch 4/21\n",
            "928/928 [==============================] - 392s 423ms/step - loss: 4.1266 - accuracy: 0.8058 - val_loss: 2.8974 - val_accuracy: 0.9221\n",
            "Epoch 5/21\n",
            "928/928 [==============================] - 393s 423ms/step - loss: 2.3792 - accuracy: 0.8123 - val_loss: 1.6343 - val_accuracy: 0.9238\n",
            "Epoch 6/21\n",
            "928/928 [==============================] - 392s 422ms/step - loss: 1.4455 - accuracy: 0.8192 - val_loss: 1.1250 - val_accuracy: 0.8423\n",
            "Epoch 7/21\n",
            "928/928 [==============================] - 390s 420ms/step - loss: 0.9932 - accuracy: 0.8232 - val_loss: 0.7406 - val_accuracy: 0.9076\n",
            "Epoch 8/21\n",
            "928/928 [==============================] - 388s 418ms/step - loss: 0.7903 - accuracy: 0.8244 - val_loss: 0.6973 - val_accuracy: 0.8393\n",
            "Epoch 9/21\n",
            "928/928 [==============================] - 388s 418ms/step - loss: 0.6887 - accuracy: 0.8270 - val_loss: 0.5762 - val_accuracy: 0.8665\n",
            "Epoch 10/21\n",
            "928/928 [==============================] - 388s 417ms/step - loss: 0.6242 - accuracy: 0.8302 - val_loss: 0.6242 - val_accuracy: 0.8132\n",
            "Epoch 11/21\n",
            "928/928 [==============================] - 387s 417ms/step - loss: 0.5786 - accuracy: 0.8340 - val_loss: 0.4204 - val_accuracy: 0.9223\n",
            "Epoch 12/21\n",
            "928/928 [==============================] - 388s 418ms/step - loss: 0.5471 - accuracy: 0.8319 - val_loss: 0.4524 - val_accuracy: 0.9071\n",
            "Epoch 13/21\n",
            "928/928 [==============================] - 387s 417ms/step - loss: 0.5202 - accuracy: 0.8344 - val_loss: 1.0065 - val_accuracy: 0.5326\n",
            "Epoch 14/21\n",
            "928/928 [==============================] - 387s 417ms/step - loss: 0.5009 - accuracy: 0.8334 - val_loss: 0.4456 - val_accuracy: 0.8658\n",
            "Epoch 15/21\n",
            "928/928 [==============================] - 387s 417ms/step - loss: 0.4808 - accuracy: 0.8374 - val_loss: 0.3770 - val_accuracy: 0.8998\n",
            "Epoch 16/21\n",
            "928/928 [==============================] - 386s 416ms/step - loss: 0.4714 - accuracy: 0.8333 - val_loss: 0.3640 - val_accuracy: 0.9060\n",
            "Epoch 17/21\n",
            "928/928 [==============================] - 386s 416ms/step - loss: 0.4585 - accuracy: 0.8381 - val_loss: 0.6097 - val_accuracy: 0.7420\n",
            "Epoch 18/21\n",
            "928/928 [==============================] - 387s 417ms/step - loss: 0.4475 - accuracy: 0.8378 - val_loss: 0.5239 - val_accuracy: 0.7817\n",
            "Epoch 19/21\n",
            "928/928 [==============================] - 387s 417ms/step - loss: 0.4410 - accuracy: 0.8374 - val_loss: 0.4028 - val_accuracy: 0.8590\n",
            "Epoch 20/21\n",
            "928/928 [==============================] - 388s 418ms/step - loss: 0.4312 - accuracy: 0.8407 - val_loss: 0.7110 - val_accuracy: 0.6559\n",
            "Epoch 21/21\n",
            "928/928 [==============================] - 387s 417ms/step - loss: 0.4217 - accuracy: 0.8395 - val_loss: 0.4509 - val_accuracy: 0.8204\n",
            "time: 2h 16min 17s (started: 2023-12-10 21:44:53 +00:00)\n"
          ]
        }
      ],
      "source": [
        "base_model = ResNet50(weights='imagenet', include_top=False, input_shape=(299, 299, 3))\n",
        "for layer in base_model.layers:\n",
        "  layer.trainable = False\n",
        "\n",
        "# Add new top layers\n",
        "x = GlobalAveragePooling2D()(base_model.output)\n",
        "x = Dense(128, kernel_regularizer=tf.keras.regularizers.l2(0.1))(x)\n",
        "x = BatchNormalization()(x)\n",
        "x = Activation('relu')(x)\n",
        "x = Dropout(0.3)(x)\n",
        "predictions = Dense(2, activation='softmax')(x)\n",
        "\n",
        "# Create the new model\n",
        "model_rn = Model(inputs=base_model.input, outputs=predictions)\n",
        "\n",
        "# Compile the model\n",
        "optimizer = Adam(learning_rate=0.00001)\n",
        "model_rn.compile(optimizer=optimizer, loss='sparse_categorical_crossentropy', metrics=['accuracy'])\n",
        "\n",
        "# Use the features calculated by networks for training\n",
        "history = model_rn.fit(\n",
        "    tf_dataset_train,\n",
        "    epochs=21,\n",
        "    validation_data=tf_dataset_val,\n",
        "    callbacks=[\n",
        "        tf.keras.callbacks.EarlyStopping(monitor='val_loss', patience=5, restore_best_weights=True),\n",
        "        tf.keras.callbacks.ModelCheckpoint('/content/drive/MyDrive/DSCI552/final-project/rn_best_model.h5', save_best_only=True, save_weights_only=False)\n",
        "    ],\n",
        "    batch_size=8\n",
        ")"
      ]
    },
    {
      "cell_type": "code",
      "execution_count": null,
      "metadata": {
        "colab": {
          "base_uri": "https://localhost:8080/",
          "height": 467
        },
        "id": "Ukq6Je1Gaepc",
        "outputId": "a3c7f807-bb03-41db-9c5c-e7450bfe90cd"
      },
      "outputs": [
        {
          "data": {
            "image/png": "[encoded data removed]",
            "text/plain": [
              "<Figure size 640x480 with 1 Axes>"
            ]
          },
          "metadata": {},
          "output_type": "display_data"
        },
        {
          "name": "stdout",
          "output_type": "stream",
          "text": [
            "time: 218 ms (started: 2023-12-11 00:01:13 +00:00)\n"
          ]
        }
      ],
      "source": [
        "# Plot training and validation loss 下载h5\n",
        "plt.plot(history.history['loss'], label='Training Loss')\n",
        "plt.plot(history.history['val_loss'], label='Validation Loss')\n",
        "plt.xlabel('Epoch')\n",
        "plt.ylabel('Loss')\n",
        "plt.legend()\n",
        "plt.show()"
      ]
    },
    {
      "cell_type": "code",
      "execution_count": null,
      "metadata": {
        "colab": {
          "base_uri": "https://localhost:8080/"
        },
        "id": "4dpLLli86KSN",
        "outputId": "81df3f68-5133-49d3-c9ea-33e3c1b32bb8"
      },
      "outputs": [
        {
          "name": "stdout",
          "output_type": "stream",
          "text": [
            "401/401 [==============================] - 102s 254ms/step\n",
            "              precision    recall  f1-score   support\n",
            "\n",
            "           0       0.34      0.46      0.39      4418\n",
            "           1       0.65      0.54      0.59      8405\n",
            "\n",
            "    accuracy                           0.51     12823\n",
            "   macro avg       0.50      0.50      0.49     12823\n",
            "weighted avg       0.55      0.51      0.52     12823\n",
            "\n",
            "time: 1min 42s (started: 2023-12-11 00:26:07 +00:00)\n"
          ]
        }
      ],
      "source": [
        "predictions_rn_test = model_rn.predict(tf_dataset_test)\n",
        "predicted_classes_rn_test = np.argmax(predictions_rn_test, axis=1)\n",
        "print(classification_report(true_labels_test, predicted_classes_rn_test))"
      ]
    },
    {
      "cell_type": "code",
      "execution_count": null,
      "metadata": {
        "colab": {
          "base_uri": "https://localhost:8080/"
        },
        "id": "OhR_imYo6Bl7",
        "outputId": "a5bcc834-4723-4a39-80fa-d89c0d4ddd14"
      },
      "outputs": [
        {
          "name": "stdout",
          "output_type": "stream",
          "text": [
            "928/928 [==============================] - 303s 326ms/step\n",
            "              precision    recall  f1-score   support\n",
            "\n",
            "           0       0.41      0.60      0.49     12235\n",
            "           1       0.59      0.40      0.48     17444\n",
            "\n",
            "    accuracy                           0.49     29679\n",
            "   macro avg       0.50      0.50      0.49     29679\n",
            "weighted avg       0.52      0.49      0.48     29679\n",
            "\n",
            "time: 5min 3s (started: 2023-12-11 00:20:02 +00:00)\n"
          ]
        }
      ],
      "source": [
        "predictions_rn_train = model_rn.predict(tf_dataset_train)\n",
        "predicted_classes_rn_train = np.argmax(predictions_rn_train, axis=1)\n",
        "print(classification_report(true_labels_train, predicted_classes_rn_train))"
      ]
    },
    {
      "cell_type": "code",
      "execution_count": null,
      "metadata": {
        "colab": {
          "base_uri": "https://localhost:8080/"
        },
        "id": "vOEapvjtae2V",
        "outputId": "f4242708-8018-4804-e72a-2442c78b77f7"
      },
      "outputs": [
        {
          "name": "stdout",
          "output_type": "stream",
          "text": [
            "353/353 [==============================] - 90s 254ms/step\n",
            "              precision    recall  f1-score   support\n",
            "\n",
            "           0       0.68      0.61      0.64      7654\n",
            "           1       0.32      0.39      0.35      3632\n",
            "\n",
            "    accuracy                           0.54     11286\n",
            "   macro avg       0.50      0.50      0.50     11286\n",
            "weighted avg       0.56      0.54      0.55     11286\n",
            "\n",
            "time: 1min 29s (started: 2023-12-11 00:27:49 +00:00)\n"
          ]
        }
      ],
      "source": [
        "predictions_rn_val = model_rn.predict(tf_dataset_val)\n",
        "predicted_classes_rn_val = np.argmax(predictions_rn_val, axis=1)\n",
        "print(classification_report(true_labels_val, predicted_classes_rn_val))"
      ]
    },
    {
      "cell_type": "markdown",
      "metadata": {
        "id": "6bOdAY7xdagf"
      },
      "source": [
        "3. **VGG16**\n",
        "\n",
        "* Dense layer neurons: 128\n",
        "* L2 regularization: 0.0005\n",
        "* Dropout rate: 40% (For better model performance, I decreased regularizer and used higher dropout rate for regularization. It reduced the overfitting issue.)\n",
        "* Output layer: Dense(2, activation='softmax')\n",
        "* Learning_rate: 0.0001\n",
        "* Loss: sparse categorical crossentropy\n",
        "\n",
        "Trouble shooting ref:\n",
        "* https://datascience.stackexchange.com/questions/82435/why-an-increasing-validation-loss-and-validation-accuracy-signifies-overfitting\n",
        "* https://github.com/keras-team/keras/issues/3755"
      ]
    },
    {
      "cell_type": "code",
      "execution_count": null,
      "metadata": {
        "colab": {
          "base_uri": "https://localhost:8080/"
        },
        "id": "D7KMZPLCZokL",
        "outputId": "ba2cf03c-2468-4ef5-d7da-1206246a3192"
      },
      "outputs": [
        {
          "name": "stdout",
          "output_type": "stream",
          "text": [
            "Epoch 1/21\n",
            "928/928 [==============================] - 491s 527ms/step - loss: 0.4733 - accuracy: 0.8227 - val_loss: 0.7476 - val_accuracy: 0.7663\n",
            "Epoch 2/21\n",
            "928/928 [==============================] - 485s 522ms/step - loss: 0.3283 - accuracy: 0.8908 - val_loss: 0.8598 - val_accuracy: 0.7555\n",
            "Epoch 3/21\n",
            "928/928 [==============================] - 483s 520ms/step - loss: 0.2870 - accuracy: 0.9049 - val_loss: 0.7796 - val_accuracy: 0.7772\n",
            "Epoch 4/21\n",
            "928/928 [==============================] - 483s 520ms/step - loss: 0.2552 - accuracy: 0.9175 - val_loss: 0.5923 - val_accuracy: 0.8213\n",
            "Epoch 5/21\n",
            "928/928 [==============================] - 484s 522ms/step - loss: 0.2340 - accuracy: 0.9261 - val_loss: 0.5713 - val_accuracy: 0.8354\n",
            "Epoch 6/21\n",
            "928/928 [==============================] - 485s 523ms/step - loss: 0.2200 - accuracy: 0.9307 - val_loss: 0.4974 - val_accuracy: 0.8460\n",
            "Epoch 7/21\n",
            "928/928 [==============================] - 484s 521ms/step - loss: 0.2121 - accuracy: 0.9337 - val_loss: 0.8962 - val_accuracy: 0.7516\n",
            "Epoch 8/21\n",
            "928/928 [==============================] - 486s 524ms/step - loss: 0.1992 - accuracy: 0.9387 - val_loss: 0.6005 - val_accuracy: 0.8352\n",
            "Epoch 9/21\n",
            "928/928 [==============================] - 486s 523ms/step - loss: 0.1855 - accuracy: 0.9439 - val_loss: 0.8672 - val_accuracy: 0.7599\n",
            "Epoch 10/21\n",
            "928/928 [==============================] - 484s 521ms/step - loss: 0.1839 - accuracy: 0.9421 - val_loss: 1.0082 - val_accuracy: 0.7572\n",
            "Epoch 11/21\n",
            "928/928 [==============================] - 484s 521ms/step - loss: 0.1758 - accuracy: 0.9461 - val_loss: 0.7132 - val_accuracy: 0.7812\n",
            "time: 1h 28min 55s (started: 2023-12-11 02:00:18 +00:00)\n"
          ]
        }
      ],
      "source": [
        "base_model = VGG16(weights='imagenet', include_top=False, input_shape=(299, 299, 3))\n",
        "for layer in base_model.layers:\n",
        "  layer.trainable = False\n",
        "\n",
        "x = GlobalAveragePooling2D()(base_model.output)\n",
        "x = Dense(128, kernel_regularizer=tf.keras.regularizers.l2(0.0005))(x) #Change the regularizer to 0.0005\n",
        "x = BatchNormalization()(x)\n",
        "x = Activation('relu')(x)\n",
        "x = Dropout(0.4)(x) #Decreased regularizer, used higher dropout rate for regularization\n",
        "predictions = Dense(2, activation='softmax')(x)\n",
        "\n",
        "model_vgg = Model(inputs=base_model.input, outputs=predictions)\n",
        "\n",
        "optimizer = Adam(learning_rate=0.0001)\n",
        "model_vgg.compile(optimizer=optimizer, loss='sparse_categorical_crossentropy', metrics=['accuracy'])\n",
        "\n",
        "history = model_vgg.fit(\n",
        "    tf_dataset_train,\n",
        "    epochs=21,\n",
        "    validation_data=tf_dataset_val,\n",
        "    callbacks=[\n",
        "        tf.keras.callbacks.EarlyStopping(monitor='val_loss', patience=5, restore_best_weights=True),\n",
        "        tf.keras.callbacks.ModelCheckpoint('/content/drive/MyDrive/DSCI552/final-project/vgg_best_model.h5', save_best_only=True, save_weights_only=False)\n",
        "    ],\n",
        "    batch_size=8\n",
        ")"
      ]
    },
    {
      "cell_type": "code",
      "execution_count": null,
      "metadata": {
        "colab": {
          "base_uri": "https://localhost:8080/",
          "height": 467
        },
        "id": "anCuJqK5awRB",
        "outputId": "4bb9491c-a478-4b12-9978-662a2287ebbc"
      },
      "outputs": [
        {
          "data": {
            "image/png": "[encoded data removed]",
            "text/plain": [
              "<Figure size 640x480 with 1 Axes>"
            ]
          },
          "metadata": {},
          "output_type": "display_data"
        },
        {
          "name": "stdout",
          "output_type": "stream",
          "text": [
            "time: 140 ms (started: 2023-12-11 03:38:44 +00:00)\n"
          ]
        }
      ],
      "source": [
        "# Plot training and validation loss\n",
        "plt.plot(history.history['loss'], label='Training Loss')\n",
        "plt.plot(history.history['val_loss'], label='Validation Loss')\n",
        "plt.xlabel('Epoch')\n",
        "plt.ylabel('Loss')\n",
        "plt.legend()\n",
        "plt.show()"
      ]
    },
    {
      "cell_type": "code",
      "execution_count": null,
      "metadata": {
        "colab": {
          "base_uri": "https://localhost:8080/"
        },
        "id": "pcWEe_Wd6TdA",
        "outputId": "8a58ad5f-9723-4e2c-a675-fa9b6214b2ca"
      },
      "outputs": [
        {
          "name": "stdout",
          "output_type": "stream",
          "text": [
            "401/401 [==============================] - 138s 344ms/step\n",
            "              precision    recall  f1-score   support\n",
            "\n",
            "           0       0.35      0.42      0.38      4418\n",
            "           1       0.66      0.59      0.62      8405\n",
            "\n",
            "    accuracy                           0.53     12823\n",
            "   macro avg       0.51      0.51      0.50     12823\n",
            "weighted avg       0.55      0.53      0.54     12823\n",
            "\n",
            "time: 2min 18s (started: 2023-12-11 03:38:51 +00:00)\n"
          ]
        }
      ],
      "source": [
        "predictions_vgg_test = model_vgg.predict(tf_dataset_test)\n",
        "predicted_classes_vgg_test = np.argmax(predictions_vgg_test, axis=1)\n",
        "print(classification_report(true_labels_test, predicted_classes_vgg_test))"
      ]
    },
    {
      "cell_type": "code",
      "execution_count": null,
      "metadata": {
        "colab": {
          "base_uri": "https://localhost:8080/"
        },
        "id": "HcKAXvp_6Tks",
        "outputId": "98235eb1-441b-4a0b-84b7-570a586fb909"
      },
      "outputs": [
        {
          "name": "stdout",
          "output_type": "stream",
          "text": [
            "928/928 [==============================] - 369s 398ms/step\n",
            "              precision    recall  f1-score   support\n",
            "\n",
            "           0       0.42      0.47      0.44     12235\n",
            "           1       0.59      0.54      0.57     17444\n",
            "\n",
            "    accuracy                           0.51     29679\n",
            "   macro avg       0.51      0.51      0.51     29679\n",
            "weighted avg       0.52      0.51      0.52     29679\n",
            "\n",
            "time: 6min 9s (started: 2023-12-11 03:41:09 +00:00)\n"
          ]
        }
      ],
      "source": [
        "predictions_vgg_train = model_vgg.predict(tf_dataset_train)\n",
        "predicted_classes_vgg_train = np.argmax(predictions_vgg_train, axis=1)\n",
        "print(classification_report(true_labels_train, predicted_classes_vgg_train))"
      ]
    },
    {
      "cell_type": "code",
      "execution_count": null,
      "metadata": {
        "colab": {
          "base_uri": "https://localhost:8080/"
        },
        "id": "4irKNSVm6TsH",
        "outputId": "cd763a4c-16f7-4853-8e2b-a336caaf4354"
      },
      "outputs": [
        {
          "name": "stdout",
          "output_type": "stream",
          "text": [
            "353/353 [==============================] - 116s 329ms/step\n",
            "              precision    recall  f1-score   support\n",
            "\n",
            "           0       0.68      0.53      0.60      7654\n",
            "           1       0.33      0.48      0.39      3632\n",
            "\n",
            "    accuracy                           0.51     11286\n",
            "   macro avg       0.50      0.51      0.49     11286\n",
            "weighted avg       0.57      0.51      0.53     11286\n",
            "\n",
            "time: 1min 56s (started: 2023-12-11 03:47:19 +00:00)\n"
          ]
        }
      ],
      "source": [
        "predictions_vgg_val = model_vgg.predict(tf_dataset_val)\n",
        "predicted_classes_vgg_val = np.argmax(predictions_vgg_val, axis=1)\n",
        "print(classification_report(true_labels_val, predicted_classes_vgg_val))"
      ]
    },
    {
      "cell_type": "markdown",
      "metadata": {
        "id": "IhC6HFZDayYl"
      },
      "source": [
        "### Model Evaluation Summary:\n",
        "\n",
        "In this project, four models have almost same performance.\n",
        "\n",
        "* ***VGG16*** model has a sightly better test f1 score (0.54), and a better performance on detecting frost (precision: 0.66; recall: 0.59). However, its validation loss fluctuated after 6 epochs, which means the model may be overfitting.\n",
        "\n",
        "* Generally, I think ***CNN+MLP*** and ***ResNet50*** models both have a reliable performance.<br>\n",
        "** CNN+MLP (weighted avg): f1 score: 0.53 | precision: 0.55 | recall: 0.52<br>\n",
        "** ResNet50 (weighted avg): f1 score: 0.52 | precision: 0.55 | recall: 0.51\n",
        "** Both models has a decreasing validation loss.\n",
        "\n",
        "* Although ***EfficientNetB0*** model has a same-level test performance, the result may not be very reliable. The prediction result is highly imbalanced. With many combinations of hyperparameters, the model was easy to be overfitting after two or three epoches.\n",
        "** EfficientNetB0 (weighted avg): f1 score: 0.53 | precision: 0.54 | recall: 0.65\n",
        "\n"
      ]
    },
    {
      "cell_type": "code",
      "execution_count": null,
      "metadata": {
        "colab": {
          "base_uri": "https://localhost:8080/"
        },
        "id": "h4xFLWux8Ol3",
        "outputId": "b7267d86-b729-4ad2-d124-353d77e0261d"
      },
      "outputs": [
        {
          "name": "stdout",
          "output_type": "stream",
          "text": [
            "CNN + MLP model test result:\n",
            "              precision    recall  f1-score   support\n",
            "\n",
            "           0       0.35      0.44      0.39      4418\n",
            "           1       0.66      0.57      0.61      8405\n",
            "\n",
            "    accuracy                           0.52     12823\n",
            "   macro avg       0.50      0.50      0.50     12823\n",
            "weighted avg       0.55      0.52      0.53     12823\n",
            "\n",
            "time: 29.3 ms (started: 2023-12-11 18:17:32 +00:00)\n"
          ]
        }
      ],
      "source": [
        "print('CNN + MLP model test result:')\n",
        "print(classification_report(true_labels_test, predicted_classes_test))"
      ]
    },
    {
      "cell_type": "code",
      "execution_count": null,
      "metadata": {
        "colab": {
          "base_uri": "https://localhost:8080/"
        },
        "id": "HeA6ghU_9bqs",
        "outputId": "e4d3f765-7ef0-4551-bcaa-8280bb339d95"
      },
      "outputs": [
        {
          "name": "stdout",
          "output_type": "stream",
          "text": [
            "ResNet50 model test result:\n",
            "              precision    recall  f1-score   support\n",
            "\n",
            "           0       0.34      0.46      0.39      4418\n",
            "           1       0.65      0.54      0.59      8405\n",
            "\n",
            "    accuracy                           0.51     12823\n",
            "   macro avg       0.50      0.50      0.49     12823\n",
            "weighted avg       0.55      0.51      0.52     12823\n",
            "\n",
            "VGG16 model test result:\n",
            "              precision    recall  f1-score   support\n",
            "\n",
            "           0       0.35      0.42      0.38      4418\n",
            "           1       0.66      0.59      0.62      8405\n",
            "\n",
            "    accuracy                           0.53     12823\n",
            "   macro avg       0.51      0.51      0.50     12823\n",
            "weighted avg       0.55      0.53      0.54     12823\n",
            "\n",
            "time: 50.3 ms (started: 2023-12-11 04:11:58 +00:00)\n"
          ]
        }
      ],
      "source": [
        "print('ResNet50 model test result:')\n",
        "print(classification_report(true_labels_test, predicted_classes_rn_test))\n",
        "print('VGG16 model test result:')\n",
        "print(classification_report(true_labels_test, predicted_classes_vgg_test))"
      ]
    },
    {
      "cell_type": "code",
      "execution_count": 29,
      "metadata": {
        "colab": {
          "base_uri": "https://localhost:8080/",
          "height": 0
        },
        "id": "LPbB1ahZHJ5o",
        "outputId": "35054a81-b066-4c25-9803-624d8ac80b54"
      },
      "outputs": [
        {
          "output_type": "stream",
          "name": "stdout",
          "text": [
            "EfficientNetB0 model test result:\n",
            "              precision    recall  f1-score   support\n",
            "\n",
            "           0       0.32      0.03      0.05      4418\n",
            "           1       0.65      0.97      0.78      8405\n",
            "\n",
            "    accuracy                           0.65     12823\n",
            "   macro avg       0.49      0.50      0.42     12823\n",
            "weighted avg       0.54      0.65      0.53     12823\n",
            "\n",
            "time: 24.3 ms (started: 2023-12-11 21:42:21 +00:00)\n"
          ]
        }
      ],
      "source": [
        "print('EfficientNetB0 model test result:')\n",
        "print(classification_report(true_labels_test, predicted_classes_en_test))"
      ]
    }
  ],
  "metadata": {
    "accelerator": "GPU",
    "colab": {
      "machine_shape": "hm",
      "provenance": []
    },
    "kernelspec": {
      "display_name": "Python 3",
      "name": "python3"
    },
    "language_info": {
      "codemirror_mode": {
        "name": "ipython",
        "version": 3
      },
      "file_extension": ".py",
      "mimetype": "text/x-python",
      "name": "python",
      "nbconvert_exporter": "python",
      "pygments_lexer": "ipython3",
      "version": "3.9.13"
    }
  },
  "nbformat": 4,
  "nbformat_minor": 0
}